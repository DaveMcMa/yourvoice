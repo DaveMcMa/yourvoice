{
 "cells": [
  {
   "cell_type": "code",
   "execution_count": 2,
   "id": "1c021b85-dc9d-4512-b456-d14db0ca3a4b",
   "metadata": {},
   "outputs": [],
   "source": [
    "### MLIS Inference Test"
   ]
  },
  {
   "cell_type": "code",
   "execution_count": 4,
   "id": "df6f5f8e-ed8a-4aa6-a1ec-06ecc7584e01",
   "metadata": {},
   "outputs": [
    {
     "name": "stderr",
     "output_type": "stream",
     "text": [
      "/opt/conda/lib/python3.11/site-packages/urllib3/connectionpool.py:1064: InsecureRequestWarning: Unverified HTTPS request is being made to host 'rundmc-chatterbox-predictor-david-mcmahon3--d663820b.ingress.dd.demo.local'. Adding certificate verification is strongly advised. See: https://urllib3.readthedocs.io/en/1.26.x/advanced-usage.html#ssl-warnings\n",
      "  warnings.warn(\n"
     ]
    }
   ],
   "source": [
    "import requests\n",
    "\n",
    "url = \"yourendpointhere/\"\n",
    "token = \"your token here"\n",
    "\n",
    "headers = {\"Authorization\": f\"Bearer {token}\", \"Content-Type\": \"application/json\"}\n",
    "data = {\"text\": \"Hello world from deployed Chatterbox!\"}\n",
    "\n",
    "response = requests.post(url + \"synthesize\", headers=headers, json=data, verify=False)\n",
    "with open(\"output.wav\", \"wb\") as f:\n",
    "   f.write(response.content)"
   ]
  },
  {
   "cell_type": "code",
   "execution_count": null,
   "id": "2e3a6c6a-ed84-430c-a8ed-bf2e9403bdb0",
   "metadata": {},
   "outputs": [],
   "source": []
  }
 ],
 "metadata": {
  "kernelspec": {
   "display_name": "Python 3 (ipykernel)",
   "language": "python",
   "name": "python3"
  },
  "language_info": {
   "codemirror_mode": {
    "name": "ipython",
    "version": 3
   },
   "file_extension": ".py",
   "mimetype": "text/x-python",
   "name": "python",
   "nbconvert_exporter": "python",
   "pygments_lexer": "ipython3",
   "version": "3.11.9"
  }
 },
 "nbformat": 4,
 "nbformat_minor": 5
}
