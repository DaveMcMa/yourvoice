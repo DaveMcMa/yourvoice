{
 "cells": [
  {
   "cell_type": "code",
   "execution_count": null,
   "id": "db1f1b85-389f-49fc-a035-0bfc44db3749",
   "metadata": {},
   "outputs": [],
   "source": [
    "### testing access to S3"
   ]
  },
  {
   "cell_type": "code",
   "execution_count": 1,
   "id": "e704c7bf-502e-45e0-8286-dea18d39e550",
   "metadata": {},
   "outputs": [
    {
     "data": {
      "text/plain": [
       "{'ResponseMetadata': {'RequestId': '1413100000001',\n",
       "  'HostId': '1413100000001',\n",
       "  'HTTPStatusCode': 200,\n",
       "  'HTTPHeaders': {'content-type': 'application/xml',\n",
       "   'date': 'Fri, 18 Jul 2025 14:21:05 GMT',\n",
       "   'server': 'envoy',\n",
       "   'strict-transport-security': 'max-age=86400',\n",
       "   'x-amz-id-2': '1413100000001',\n",
       "   'x-amz-request-id': '1413100000001',\n",
       "   'x-content-type-options': 'nosniff',\n",
       "   'x-frame-options': 'SAMEORIGIN',\n",
       "   'x-envoy-upstream-service-time': '28',\n",
       "   'transfer-encoding': 'chunked'},\n",
       "  'RetryAttempts': 0},\n",
       " 'Buckets': [{'Name': 'ezaf-demo',\n",
       "   'CreationDate': datetime.datetime(2025, 6, 5, 13, 41, 50, tzinfo=tzlocal())},\n",
       "  {'Name': 'mlflow.pcaictc',\n",
       "   'CreationDate': datetime.datetime(2025, 6, 5, 8, 43, 12, tzinfo=tzlocal())}],\n",
       " 'Owner': {'DisplayName': 's3user', 'ID': '104'}}"
      ]
     },
     "execution_count": 1,
     "metadata": {},
     "output_type": "execute_result"
    }
   ],
   "source": [
    "import boto3\n",
    "s3 = boto3.client('s3', endpoint_url='http://local-s3-service.ezdata-system.svc.cluster.local:30000')\n",
    "s3.list_buckets()"
   ]
  },
  {
   "cell_type": "code",
   "execution_count": 2,
   "id": "ef77321a-1e02-42fe-9f51-1aa14705f4b1",
   "metadata": {},
   "outputs": [],
   "source": [
    "### uploading my bento to a new bucket"
   ]
  },
  {
   "cell_type": "code",
   "execution_count": 3,
   "id": "abd0c5bd-22c6-4b25-a926-b834af8df917",
   "metadata": {},
   "outputs": [
    {
     "name": "stdout",
     "output_type": "stream",
     "text": [
      "Files in rundmc bucket: [{'Key': 'chatterbox.bento', 'LastModified': datetime.datetime(2025, 7, 18, 14, 22, 6, 591583, tzinfo=tzlocal()), 'ETag': '\"cececc77edbea154d542ccd3e8e21d01\"', 'Size': 139788, 'StorageClass': 'STANDARD'}]\n"
     ]
    }
   ],
   "source": [
    "import boto3\n",
    "\n",
    "# Initialize S3 client\n",
    "s3 = boto3.client('s3', endpoint_url='http://local-s3-service.ezdata-system.svc.cluster.local:30000')\n",
    "\n",
    "# Create new bucket\n",
    "s3.create_bucket(Bucket='rundmc')\n",
    "\n",
    "# Upload the bento file\n",
    "s3.upload_file('chatterbox.bento', 'rundmc', 'chatterbox.bento')\n",
    "\n",
    "# Verify upload\n",
    "response = s3.list_objects_v2(Bucket='rundmc')\n",
    "print(\"Files in rundmc bucket:\", response.get('Contents', []))"
   ]
  },
  {
   "cell_type": "code",
   "execution_count": 7,
   "id": "90a094c2-e037-42eb-8d74-4d1512b9b57c",
   "metadata": {},
   "outputs": [],
   "source": [
    "### checking credentials to confirm what is required for MLIS"
   ]
  },
  {
   "cell_type": "code",
   "execution_count": 6,
   "id": "96eb9d72-e8d7-4abe-9b5e-118ded024770",
   "metadata": {},
   "outputs": [
    {
     "name": "stdout",
     "output_type": "stream",
     "text": [
      "Access Key: eyJhbGciOiJSUzI1NiIsInR5cCIgOiAiSldUIiwia2lkIiA6ICJnVG1oZ05jV21GQTFBZkNOdnAyd3hSRGZhMmMxYS1oRDV3bmlKbHktMEQ4In0.eyJleHAiOjE3NTI4NTAwNTEsImlhdCI6MTc1Mjg0ODI1MSwiYXV0aF90aW1lIjoxNzUyODQxMTExLCJqdGkiOiI4ZDEwM2Y4Yy04MjIyLTQ1ZmUtODNjNy05Zjc2OWVlYjA0NDEiLCJpc3MiOiJodHRwczovL2tleWNsb2FrLmluZ3Jlc3MuZGQuZGVtby5sb2NhbC9yZWFsbXMvVUEiLCJzdWIiOiIwZWRhNWE1YS03YTUzLTQ1NGQtODlmMi05MjU1MWFjMDJlODgiLCJ0eXAiOiJCZWFyZXIiLCJhenAiOiJ1YSIsIm5vbmNlIjoiMGlWTHRVbDJPQjlIN2J1OU8xTEgydllscjJhRHpIOEpTRlJrVm0zazltWSIsInNlc3Npb25fc3RhdGUiOiJkZmNjOGIyYi05MmRkLTQ1ZTctYWE0My1mOTE1NDVmODIxM2IiLCJhY3IiOiIxIiwic2NvcGUiOiJvcGVuaWQgb2ZmbGluZV9hY2Nlc3MgcGNhaWN0Yzp1YSBlbWFpbCBwcm9maWxlIiwic2lkIjoiZGZjYzhiMmItOTJkZC00NWU3LWFhNDMtZjkxNTQ1ZjgyMTNiIiwidWlkIjoiMTAwMDAwMDgiLCJlbWFpbF92ZXJpZmllZCI6ZmFsc2UsImdpZCI6IjEwMDEiLCJuYW1lIjoiRGF2aWQgTWNNYWhvbiIsIm5hbWVzcGFjZSI6ImRhdmlkLW1jbWFob24zLS1kNjYzODIwYiIsImdyb3VwcyI6WyJ1YS1lbmFibGVkIiwib2ZmbGluZV9hY2Nlc3MiLCJhZG1pbiIsInVtYV9hdXRob3JpemF0aW9uIiwiZGVmYXVsdC1yb2xlcy11YSJdLCJwcmVmZXJyZWRfdXNlcm5hbWUiOiJkYXZpZC5tY21haG9uMy1ocGUuY29tIiwiZ2l2ZW5fbmFtZSI6IkRhdmlkIiwicG9zaXhfdXNlcm5hbWUiOiJkYXZpZC5tY21haG9uMy1ocGUuY29tIiwiZmFtaWx5X25hbWUiOiJNY01haG9uIiwiZW1haWwiOiJkYXZpZC5tY21haG9uM0BocGUuY29tIn0.j6-0uLg0rj0YIFbYCj0bO5m9ly25zpz8XVmLTEo-NJb2js9_CzbNHU13q0UtGn4Wc4hosSmsrQ8-FqromAOWOPtxl64XTVxZFe4RDGR_lykFMCRygArHARvMM_xObDZniG4RQqCcwOuI_6PDvrvakblmnlhBT-quAA8Z2-WOBGIiobZyG67v4kJZRVpgzMytAy3R2NWjhaBwhv00zHmafH94M7oCkIgSInEFNv92FkGeVntl3ws46sum87bOyucKbQtL0GCbgPlEKdvCmmQrC9tn8IBhOjZFXC8n9hLB_tZ9OMR14ad5qZwkiDmwsM-59gu6J3TbXxMo_JAU8AiC9g\n",
      "Secret Key: s3\n",
      "Token: \n"
     ]
    }
   ],
   "source": [
    "creds = boto3.Session().get_credentials()\n",
    "print(f\"Access Key: {creds.access_key}\")\n",
    "print(f\"Secret Key: {creds.secret_key}\")\n",
    "print(f\"Token: {creds.token}\")"
   ]
  },
  {
   "cell_type": "code",
   "execution_count": null,
   "id": "a8b92625-9eb7-471c-96e2-88ee2f21bc01",
   "metadata": {},
   "outputs": [],
   "source": []
  }
 ],
 "metadata": {
  "kernelspec": {
   "display_name": "Python 3 (ipykernel)",
   "language": "python",
   "name": "python3"
  },
  "language_info": {
   "codemirror_mode": {
    "name": "ipython",
    "version": 3
   },
   "file_extension": ".py",
   "mimetype": "text/x-python",
   "name": "python",
   "nbconvert_exporter": "python",
   "pygments_lexer": "ipython3",
   "version": "3.11.9"
  }
 },
 "nbformat": 4,
 "nbformat_minor": 5
}
